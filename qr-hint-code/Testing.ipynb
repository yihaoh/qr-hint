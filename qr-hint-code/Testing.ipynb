{
 "cells": [
  {
   "cell_type": "code",
   "execution_count": null,
   "metadata": {},
   "outputs": [],
   "source": [
    "from z3 import *\n",
    "from bool_test import QueryTest\n",
    "from bool_test import *\n",
    "from utils import *"
   ]
  },
  {
   "cell_type": "code",
   "execution_count": 2,
   "metadata": {},
   "outputs": [],
   "source": [
    "# Beer DB Test case\n",
    "\n",
    "# Simple WHERE Test\n",
    "# q1 = \"SELECT * FROM drinker, frequents WHERE name = drinker and times_a_week > 2 and bar = 'James Joyce Pub'\"\n",
    "# q2 = \"SELECT * FROM drinker, frequents WHERE name = drinker and times_a_week > 3 and bar = 'Talk of the Town'\"\n",
    "\n",
    "# running example\n",
    "q1 = \"SELECT L.beer, S1.bar, COUNT(*) FROM Likes L, Frequents F, Serves S1, Serves S2 WHERE L.drinker = F.drinker AND F.bar = S1.bar AND L.beer = S1.beer AND S1.beer = S2.beer AND S1.price <= S2.price AND F.drinker = 'Amy' GROUP BY F.drinker, L.beer, S1.bar\"\n",
    "q2 = \"SELECT s2.beer, s2.bar, COUNT(*) FROM Likes L, Serves s1, Serves s2, Frequents F WHERE L.drinker = 'Amy' AND L.beer = s1.beer AND L.beer = s2.beer AND s1.price > s2.price AND F.bar = s2.bar AND L.drinker = F.drinker GROUP BY s2.beer, s2.bar\"\n",
    "q1_info = QueryInfo(q1)\n",
    "q2_info = QueryInfo(q2)\n",
    "m = MappingInfo(q1_info, q2_info)\n",
    "t = QueryTest(q1_info, q2_info, m.z3_var_lookup, m.table_mapping, m.table_mapping_reverse)"
   ]
  },
  {
   "cell_type": "code",
   "execution_count": 6,
   "metadata": {},
   "outputs": [
    {
     "name": "stdout",
     "output_type": "stream",
     "text": [
      "query is conjunctive\n",
      "Repair Site #0: ['s1.price > s2.price']\n",
      "Fix #0: s2.price <= s1.price\n"
     ]
    }
   ],
   "source": [
    "# t.test_where_having_min_overall_fo() # fix optimization\n",
    "t.test_where_having_min_overall_fg()   # baseline algorithm"
   ]
  },
  {
   "cell_type": "code",
   "execution_count": 3,
   "metadata": {},
   "outputs": [
    {
     "name": "stdout",
     "output_type": "stream",
     "text": [
      "GROUP BY clauses are equivalent.\n"
     ]
    },
    {
     "data": {
      "text/plain": [
       "([], [])"
      ]
     },
     "execution_count": 3,
     "metadata": {},
     "output_type": "execute_result"
    }
   ],
   "source": [
    "t.test_group_by()"
   ]
  },
  {
   "cell_type": "code",
   "execution_count": 4,
   "metadata": {},
   "outputs": [
    {
     "data": {
      "text/plain": [
       "([], [])"
      ]
     },
     "execution_count": 4,
     "metadata": {},
     "output_type": "execute_result"
    }
   ],
   "source": [
    "t.test_select()"
   ]
  },
  {
   "cell_type": "code",
   "execution_count": null,
   "metadata": {},
   "outputs": [],
   "source": []
  }
 ],
 "metadata": {
  "kernelspec": {
   "display_name": "Python 3 (ipykernel)",
   "language": "python",
   "name": "python3"
  },
  "language_info": {
   "codemirror_mode": {
    "name": "ipython",
    "version": 3
   },
   "file_extension": ".py",
   "mimetype": "text/x-python",
   "name": "python",
   "nbconvert_exporter": "python",
   "pygments_lexer": "ipython3",
   "version": "3.10.8"
  }
 },
 "nbformat": 4,
 "nbformat_minor": 4
}
